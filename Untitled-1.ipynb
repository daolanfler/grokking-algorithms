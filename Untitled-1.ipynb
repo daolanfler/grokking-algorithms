{
 "cells": [
  {
   "cell_type": "code",
   "execution_count": 1,
   "metadata": {},
   "outputs": [
    {
     "name": "stdout",
     "output_type": "stream",
     "text": [
      "-306.0\n",
      "[[ 0.17647059 -0.00326797 -0.02287582]\n",
      " [ 0.05882353 -0.13071895  0.08496732]\n",
      " [-0.11764706  0.1503268   0.05228758]]\n"
     ]
    }
   ],
   "source": [
    "import numpy as np\n",
    "\n",
    "A = np.array([[6, 1, 1],\n",
    "              [4, -2, 5],\n",
    "              [2, 8, 7]])\n",
    "det = np.linalg.det(A)\n",
    "print(det)\n",
    "\n",
    "inv = np.linalg.inv(A)\n",
    "print(inv)"
   ]
  },
  {
   "cell_type": "code",
   "execution_count": 24,
   "metadata": {},
   "outputs": [
    {
     "name": "stdout",
     "output_type": "stream",
     "text": [
      "2.718281828459045\n"
     ]
    },
    {
     "data": {
      "image/png": "[encoded data removed]",
      "text/plain": [
       "<Figure size 432x288 with 1 Axes>"
      ]
     },
     "metadata": {
      "needs_background": "light"
     },
     "output_type": "display_data"
    }
   ],
   "source": [
    "import matplotlib.pyplot as plt\n",
    "np.random.seed(19680801)\n",
    "\n",
    "# make up some data in the open interval (0, 1)\n",
    "y = np.random.normal(loc=0.5, scale=0.4, size=4000)\n",
    "y = y[(y > 0) & (y < 1)]\n",
    "y.sort()\n",
    "x = np.arange(len(y))\n",
    "\n",
    "plt.figure()\n",
    "\n",
    "# # log\n",
    "plt.subplot(111)\n",
    "plt.plot(x, y)\n",
    "plt.yscale('log')\n",
    "plt.xscale('log')\n",
    "\n",
    "print(np.e)\n",
    "# plt.title('log')\n",
    "\n",
    "# plt.subplot(224)\n",
    "# plt.plot(x, y)\n",
    "# plt.yscale('logit')\n",
    "# plt.title('logit')\n",
    "# plt.grid(True)\n",
    "# # Adjust the subplot layout, because the logit one may take more space\n",
    "# # than usual, due to y-tick labels like \"1 - 10^{-3}\"\n",
    "# plt.subplots_adjust(top=0.92, bottom=0.08, left=0.10, right=0.95, hspace=0.25,\n",
    "#                     wspace=0.35)"
   ]
  }
 ],
 "metadata": {
  "interpreter": {
   "hash": "d14fb7943570f5896729bd609b9f03161f6c0676df1be2b0320277044bd16d8d"
  },
  "kernelspec": {
   "display_name": "Python 3.10.0 64-bit ('scraping-env')",
   "language": "python",
   "name": "python3"
  },
  "language_info": {
   "codemirror_mode": {
    "name": "ipython",
    "version": 3
   },
   "file_extension": ".py",
   "mimetype": "text/x-python",
   "name": "python",
   "nbconvert_exporter": "python",
   "pygments_lexer": "ipython3",
   "version": "3.8.5"
  },
  "orig_nbformat": 4
 },
 "nbformat": 4,
 "nbformat_minor": 2
}
