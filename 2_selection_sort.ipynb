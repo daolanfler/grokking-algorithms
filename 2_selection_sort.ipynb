{
 "cells": [
  {
   "cell_type": "code",
   "execution_count": 4,
   "metadata": {},
   "outputs": [
    {
     "data": {
      "text/plain": "[5, 7, 11, 21, 24, 28, 64, 75, 75, 77]"
     },
     "execution_count": 4,
     "metadata": {},
     "output_type": "execute_result"
    }
   ],
   "source": [
    "# selection_sort\n",
    "\n",
    "def find_smallest(arr):\n",
    "    smallest = arr[0]\n",
    "    smallest_idx = 0\n",
    "    for i in range(1, len(arr)):\n",
    "        if (smallest > arr[i]):\n",
    "            smallest = arr[i]\n",
    "            smallest_idx = i\n",
    "    return smallest_idx\n",
    "\n",
    "def select_sort(arr): \n",
    "    ret = []\n",
    "    arr_copy = arr[:]\n",
    "    for i in range(len(arr)): \n",
    "        min_idx = find_smallest(arr_copy)\n",
    "        ret.append(arr_copy.pop(min_idx))\n",
    "    return ret\n",
    "\n",
    "import random\n",
    "l = [random.randint(1, 100) for i in range(10) ]\n",
    "select_sort(l)"
   ]
  },
  {
   "cell_type": "code",
   "execution_count": null,
   "metadata": {},
   "outputs": [],
   "source": []
  }
 ],
 "metadata": {
  "kernelspec": {
   "display_name": "Python 3",
   "language": "python",
   "name": "python3"
  },
  "language_info": {
   "codemirror_mode": {
    "name": "ipython",
    "version": 3
   },
   "file_extension": ".py",
   "mimetype": "text/x-python",
   "name": "python",
   "nbconvert_exporter": "python",
   "pygments_lexer": "ipython3",
   "version": "3.7.2-final"
  }
 },
 "nbformat": 4,
 "nbformat_minor": 2
}