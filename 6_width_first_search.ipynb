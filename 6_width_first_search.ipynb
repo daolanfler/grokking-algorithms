{
 "cells": [
  {
   "cell_type": "code",
   "execution_count": 4,
   "metadata": {},
   "outputs": [],
   "source": [
    "# 最短路径问题，通常使用广度优先搜索解决。\n",
    "# 有向图 directed graph \n",
    "# 无向图 undirected graph \n",
    "\n",
    "graph = {}\n",
    "graph['you'] = ['alice', 'copper', 'bob', 'claire']\n",
    "\n",
    "graph['alice'] = ['peggy']\n",
    "graph['copper'] = []\n",
    "graph['bob'] = ['anuj', 'peggy']\n",
    "graph['claire'] = ['thom', 'jonny']\n",
    "\n",
    "graph['peggy'] = []\n",
    "graph['anuj'] = []\n",
    "graph['thom'] = []\n",
    "graph['jonny'] = []\n",
    "\n",
    "def is_seller(name): \n",
    "    return name[-1] == 'm'"
   ]
  },
  {
   "cell_type": "code",
   "execution_count": 7,
   "metadata": {},
   "outputs": [
    {
     "name": "stdout",
     "output_type": "stream",
     "text": [
      "thom is the seller\n"
     ]
    },
    {
     "data": {
      "text/plain": [
       "True"
      ]
     },
     "execution_count": 7,
     "metadata": {},
     "output_type": "execute_result"
    }
   ],
   "source": [
    "from collections import deque\n",
    "def search(name): \n",
    "    sq = deque()\n",
    "    sq += graph[name]\n",
    "    searched = []\n",
    "    while sq:\n",
    "        person = sq.popleft()\n",
    "        if person not in searched:\n",
    "            if is_seller(person):\n",
    "                print(person + ' is the seller')\n",
    "                return True\n",
    "            else: \n",
    "                sq += graph[person]\n",
    "                searched.append(person)\n",
    "    return False\n",
    "\n",
    "search('you')"
   ]
  },
  {
   "cell_type": "code",
   "execution_count": null,
   "metadata": {},
   "outputs": [],
   "source": []
  }
 ],
 "metadata": {
  "kernelspec": {
   "display_name": "Python 3",
   "language": "python",
   "name": "python3"
  },
  "language_info": {
   "codemirror_mode": {
    "name": "ipython",
    "version": 3
   },
   "file_extension": ".py",
   "mimetype": "text/x-python",
   "name": "python",
   "nbconvert_exporter": "python",
   "pygments_lexer": "ipython3",
   "version": "3.7.2"
  }
 },
 "nbformat": 4,
 "nbformat_minor": 2
}
