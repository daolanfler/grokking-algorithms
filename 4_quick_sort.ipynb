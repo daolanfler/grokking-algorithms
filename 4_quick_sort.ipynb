{
 "cells": [
  {
   "source": [
    "def recur_sum(lst): \n",
    "    if (len(lst) == 0): \n",
    "        return 0\n",
    "    else: \n",
    "        return lst[0] + recur_sum(lst[1:])\n",
    "    \n",
    "recur_sum(list(range(10)))"
   ],
   "cell_type": "code",
   "outputs": [
    {
     "output_type": "execute_result",
     "data": {
      "text/plain": "45"
     },
     "metadata": {},
     "execution_count": 1
    }
   ],
   "metadata": {},
   "execution_count": 1
  },
  {
   "source": [
    "def recur_len(arr): \n",
    "    return 0 if arr == [] else 1 + recur_len(arr[1:])\n",
    "\n",
    "recur_len(list(range(22)))"
   ],
   "cell_type": "code",
   "outputs": [
    {
     "output_type": "execute_result",
     "data": {
      "text/plain": "22"
     },
     "metadata": {},
     "execution_count": 2
    }
   ],
   "metadata": {},
   "execution_count": 2
  },
  {
   "source": [
    "def recur_max(arr): \n",
    "    if (len(arr) == 2):\n",
    "        return arr[0] if arr[0] > arr[1] else arr[1]\n",
    "    else: \n",
    "        return arr[0] if arr[0] > recur_max(arr[1:]) else recur_max(arr[1:])\n",
    "    \n",
    "recur_max([1,-2,4,5,34])"
   ],
   "cell_type": "code",
   "outputs": [
    {
     "output_type": "execute_result",
     "data": {
      "text/plain": "34"
     },
     "metadata": {},
     "execution_count": 3
    }
   ],
   "metadata": {},
   "execution_count": 3
  },
  {
   "source": [
    "# 理解分而治之\n",
    "# oneline quick sort \n",
    "def quick_sort(arr): \n",
    "    return [] if len(arr) == 0 else quick_sort([i for i in arr[1:] if i < arr[0]]) + [arr[0]] + quick_sort([i for i in arr[1:] if i > arr[0]])\n",
    "\n",
    "quick_sort([1,3,5,-2,3,10])"
   ],
   "cell_type": "code",
   "outputs": [
    {
     "output_type": "execute_result",
     "data": {
      "text/plain": "[-2, 1, 3, 5, 10]"
     },
     "metadata": {},
     "execution_count": 4
    }
   ],
   "metadata": {},
   "execution_count": 4
  },
  {
   "source": [
    "# normal quick sort\n",
    "def quicksort(arr):\n",
    "    if len(arr) < 2: \n",
    "        return arr\n",
    "    else: \n",
    "        pivot = arr[0]\n",
    "        less = [i for i in arr[1:] if i <= pivot]\n",
    "        more = [i for i in arr[1:] if i > pivot]\n",
    "        return quicksort(less) + [pivot] + quicksort(more)\n",
    "\n",
    "quick_sort([1,3,5,-2,3,10])"
   ],
   "cell_type": "code",
   "outputs": [
    {
     "output_type": "execute_result",
     "data": {
      "text/plain": "[-2, 1, 3, 5, 10]"
     },
     "metadata": {},
     "execution_count": 5
    }
   ],
   "metadata": {},
   "execution_count": 5
  },
  {
   "source": [
    "# 归并排序 from wikipedia \n",
    "\n",
    "# 递归法： Top-Down \n",
    "# 申请空间，使其大小为两个已经排序序列之和，该空间用来存放合并后的序列\n",
    "# 设定两个指针，最初位置分别为两个已经排序序列的起始位置\n",
    "# 比较两个指针所指向的元素，选择相对小的元素放入到合并空间，并移动指针到下一位置\n",
    "# 重复步骤3直到某一指针到达序列尾\n",
    "# 将另一序列剩下的所有元素直接复制到合并序列尾\n",
    "\n",
    "def merge(left, right): \n",
    "    result = []\n",
    "    while left and right: \n",
    "        if left[0] >= right[0]:\n",
    "            result.append(right.pop(0))\n",
    "        else: \n",
    "            result.append(left.pop(0))\n",
    "    if left: \n",
    "        result += left\n",
    "    if right: \n",
    "        result += right\n",
    "    return result\n",
    "\n",
    "def merge_sort(arr): \n",
    "    # When D&C to 1 element, just return it\n",
    "    if len(arr) <= 1: \n",
    "        return arr\n",
    "    mid = len(arr) // 2 \n",
    "    left = merge_sort(arr[:mid])\n",
    "    right = merge_sort(arr[mid:])\n",
    "    # Conquer sub-problem recursively\n",
    "    return merge(left, right)\n",
    "    # return the answer of the sub-problem\n",
    "\n",
    "test = [1, 4, 2, 3.6, -1, 0, 25, -34, 8, 9, 1, 0]\n",
    "print(\"original:\", test)\n",
    "print(\"Sorted:\", merge_sort(test))"
   ],
   "cell_type": "code",
   "outputs": [
    {
     "output_type": "stream",
     "name": "stdout",
     "text": "original: [1, 4, 2, 3.6, -1, 0, 25, -34, 8, 9, 1, 0]\nSorted: [-34, -1, 0, 0, 1, 1, 2, 3.6, 4, 8, 9, 25]\n"
    }
   ],
   "metadata": {},
   "execution_count": 6
  }
 ],
 "metadata": {
  "kernelspec": {
   "display_name": "Python 3",
   "language": "python",
   "name": "python3"
  },
  "language_info": {
   "codemirror_mode": {
    "name": "ipython",
    "version": 3
   },
   "file_extension": ".py",
   "mimetype": "text/x-python",
   "name": "python",
   "nbconvert_exporter": "python",
   "pygments_lexer": "ipython3",
   "version": "3.7.2-final"
  }
 },
 "nbformat": 4,
 "nbformat_minor": 2
}