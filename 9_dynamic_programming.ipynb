{
 "cells": [
  {
   "cell_type": "markdown",
   "metadata": {},
   "source": [
    "# 动态规划\n",
    "\n",
    "- 需要在给定约束条件下优化某种指标，问题可以分解成离散的子问题时，可以使用动态规划来解决。\n",
    "\n",
    "- 每种动态规划解决方案都涉及网格。\n",
    "\n",
    "## 背包问题\n",
    "\n",
    "- 每个单元格的值 = max of 上方单元格的值 & 当前行的价值 + 剩余背包空间的最大价值。\n",
    "\n",
    "## 最长公共子序列 & 子串的问题\n",
    "\n",
    "1. 区别\n",
    "\n",
    "    例如单词 fosh 和 fish ，最长公共子序列为 f s h 3，最长公共子串 sh 为2。\n"
   ]
  }
 ],
 "metadata": {
  "kernelspec": {
   "display_name": "Python 3",
   "language": "python",
   "name": "python3"
  },
  "language_info": {
   "codemirror_mode": {
    "name": "ipython",
    "version": 3
   },
   "file_extension": ".py",
   "mimetype": "text/x-python",
   "name": "python",
   "nbconvert_exporter": "python",
   "pygments_lexer": "ipython3",
   "version": "3.7.2"
  }
 },
 "nbformat": 4,
 "nbformat_minor": 2
}
