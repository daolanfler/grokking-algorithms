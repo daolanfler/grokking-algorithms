{
 "cells": [
  {
   "cell_type": "code",
   "execution_count": 5,
   "metadata": {},
   "outputs": [],
   "source": [
    "def binary_search(lst, item): \n",
    "    low = 0\n",
    "    high = len(lst) - 1\n",
    "    \n",
    "    while low <= high: \n",
    "        mid = (low + high) // 2\n",
    "        if lst[mid] < item: \n",
    "            low = mid + 1\n",
    "        elif lst[mid] > item:\n",
    "            high = mid - 1\n",
    "        else: \n",
    "            return mid\n",
    "    return None\n",
    "\n"
   ]
  },
  {
   "cell_type": "code",
   "execution_count": 6,
   "metadata": {
    "scrolled": true
   },
   "outputs": [
    {
     "name": "stdout",
     "output_type": "stream",
     "text": [
      "[3, 13, 11, 16, 12, 6, 16, 10, 14, 18]\n"
     ]
    },
    {
     "data": {
      "text/plain": [
       "[3, 6, 10, 11, 12, 13, 14, 16, 16, 18]"
      ]
     },
     "execution_count": 6,
     "metadata": {},
     "output_type": "execute_result"
    }
   ],
   "source": [
    "import random\n",
    "l = [ random.randint(1, 20) for i in range(10)]\n",
    "print(l)\n",
    "sorted(l)\n"
   ]
  },
  {
   "cell_type": "code",
   "execution_count": 7,
   "metadata": {
    "scrolled": true
   },
   "outputs": [
    {
     "name": "stdout",
     "output_type": "stream",
     "text": [
      "4\n",
      "1\n"
     ]
    }
   ],
   "source": [
    "print(binary_search(sorted(l), 12))\n",
    "\n",
    "print(binary_search([2,3], 3))"
   ]
  },
  {
   "cell_type": "code",
   "execution_count": 8,
   "metadata": {},
   "outputs": [
    {
     "data": {
      "text/plain": [
       "7"
      ]
     },
     "execution_count": 8,
     "metadata": {},
     "output_type": "execute_result"
    }
   ],
   "source": [
    "# binary search using recursion \n",
    "def recur_bin(l, first, last, item): \n",
    "    if first > last: \n",
    "        return None\n",
    "    mid = (first + last) // 2 \n",
    "    if (l[mid] > item):\n",
    "        return recur_bin(l, first, mid - 1, item)\n",
    "    if (l[mid] < item): \n",
    "        return recur_bin(l, mid + 1, last, item)\n",
    "    else: \n",
    "        return mid\n",
    "\n",
    "\n",
    "recur_bin(list(range(10)), 0, 9, 7)"
   ]
  },
  {
   "cell_type": "code",
   "execution_count": null,
   "metadata": {},
   "outputs": [],
   "source": []
  }
 ],
 "metadata": {
  "interpreter": {
   "hash": "36c35fdaea07d82bdcd7278ef90cf18c1fa03f1d495875df61abd71785731b21"
  },
  "kernelspec": {
   "display_name": "Python 3",
   "language": "python",
   "name": "python3"
  },
  "language_info": {
   "codemirror_mode": {
    "name": "ipython",
    "version": 3
   },
   "file_extension": ".py",
   "mimetype": "text/x-python",
   "name": "python",
   "nbconvert_exporter": "python",
   "pygments_lexer": "ipython3",
   "version": "3.10.0"
  }
 },
 "nbformat": 4,
 "nbformat_minor": 2
}
