{
 "cells": [
  {
   "cell_type": "code",
   "execution_count": 1,
   "metadata": {},
   "outputs": [],
   "source": [
    "def binary_search(lst, item): \n",
    "    low = 0\n",
    "    high = len(lst) - 1\n",
    "    \n",
    "    while low <= high: \n",
    "        mid = (low + high) // 2\n",
    "        if lst[mid] < item: \n",
    "            low = mid + 1\n",
    "        elif lst[mid] > item:\n",
    "            high = mid - 1\n",
    "        else: \n",
    "            return mid\n",
    "    return None\n",
    "\n"
   ]
  },
  {
   "cell_type": "code",
   "execution_count": 12,
   "metadata": {
    "scrolled": true
   },
   "outputs": [
    {
     "name": "stdout",
     "output_type": "stream",
     "text": [
      "[13, 7, 5, 14, 10, 9, 16, 17, 10, 4]\n"
     ]
    },
    {
     "data": {
      "text/plain": [
       "[4, 5, 7, 9, 10, 10, 13, 14, 16, 17]"
      ]
     },
     "execution_count": 12,
     "metadata": {},
     "output_type": "execute_result"
    }
   ],
   "source": [
    "import random\n",
    "l = [ random.randint(1, 20) for i in range(10)]\n",
    "print(l)\n",
    "sorted(l)\n"
   ]
  },
  {
   "cell_type": "code",
   "execution_count": 5,
   "metadata": {
    "scrolled": true
   },
   "outputs": [
    {
     "name": "stdout",
     "output_type": "stream",
     "text": [
      "None\n",
      "1\n"
     ]
    }
   ],
   "source": [
    "print(binary_search(sorted(l), 12))\n",
    "\n",
    "print(binary_search([2,3], 3))"
   ]
  },
  {
   "cell_type": "code",
   "execution_count": 11,
   "metadata": {},
   "outputs": [
    {
     "data": {
      "text/plain": [
       "7"
      ]
     },
     "execution_count": 11,
     "metadata": {},
     "output_type": "execute_result"
    }
   ],
   "source": [
    "# binary search using recursion \n",
    "def recur_bin(l, first, last, item): \n",
    "    if first > last: \n",
    "        return None\n",
    "    mid = (first + last) // 2 \n",
    "    if (l[mid] > item):\n",
    "        return recur_bin(l, first, mid - 1, item)\n",
    "    if (l[mid] < item): \n",
    "        return recur_bin(l, mid + 1, last, item)\n",
    "    else: \n",
    "        return mid\n",
    "\n",
    "\n",
    "recur_bin(list(range(10)), 0, 9, 7)"
   ]
  },
  {
   "cell_type": "code",
   "execution_count": null,
   "metadata": {},
   "outputs": [],
   "source": []
  }
 ],
 "metadata": {
  "interpreter": {
   "hash": "36c35fdaea07d82bdcd7278ef90cf18c1fa03f1d495875df61abd71785731b21"
  },
  "kernelspec": {
   "display_name": "Python 3",
   "language": "python",
   "name": "python3"
  },
  "language_info": {
   "codemirror_mode": {
    "name": "ipython",
    "version": 3
   },
   "file_extension": ".py",
   "mimetype": "text/x-python",
   "name": "python",
   "nbconvert_exporter": "python",
   "pygments_lexer": "ipython3",
   "version": "3.8.5"
  }
 },
 "nbformat": 4,
 "nbformat_minor": 2
}
