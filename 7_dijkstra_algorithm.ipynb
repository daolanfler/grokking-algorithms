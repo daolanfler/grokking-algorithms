{
 "cells": [
  {
   "cell_type": "code",
   "execution_count": null,
   "metadata": {},
   "outputs": [],
   "source": [
    "# 狄克斯特拉算法\n",
    "# 适用于有向无环图、正权边\n",
    "\n",
    "# 1. 找出最便宜的节点\n",
    "# 2. 对于该节点的邻居，检查是否有前往他们的更短路径，有，则更新其开销\n",
    "# 3. 重复这个过程，直到对图中的每个节点都这样做了\n",
    "# 4. 计算最短路径"
   ]
  },
  {
   "cell_type": "code",
   "execution_count": 1,
   "metadata": {},
   "outputs": [],
   "source": [
    "# 使用哈希表构建图\n",
    "\n",
    "graph = {}\n",
    "graph['start'] = {}\n",
    "graph['start']['a'] = 6\n",
    "graph['start']['b'] = 2\n",
    "\n",
    "graph['a'] = {}\n",
    "graph['a']['fin'] = 1\n",
    "\n",
    "graph['b'] = {}\n",
    "graph['b']['a'] = 3\n",
    "graph['b']['fin'] = 5\n",
    "\n",
    "graph['fin'] = {}\n",
    "\n",
    "infinity = float('inf')\n",
    "costs = {} \n",
    "costs['a'] = 6\n",
    "costs['b'] = 2\n",
    "costs['fin'] = infinity\n",
    "\n",
    "parents = {} \n",
    "parents['a'] = 'start'\n",
    "parents['b'] = 'start'\n",
    "parents['fin'] = None\n"
   ]
  },
  {
   "cell_type": "code",
   "execution_count": 3,
   "metadata": {},
   "outputs": [
    {
     "name": "stdout",
     "output_type": "stream",
     "text": [
      "{'a': 'b', 'b': 'start', 'fin': 'a'}\n"
     ]
    }
   ],
   "source": [
    "processed = []\n",
    "def find_lowest_cost(costs):\n",
    "    lowest_cost = float('inf')\n",
    "    lowest_node = None\n",
    "    for node in costs:\n",
    "        cost = costs[node]\n",
    "        if cost < lowest_cost and node not in processed: \n",
    "            lowest_cost = cost\n",
    "            lowest_node = node\n",
    "    return lowest_node\n",
    "\n",
    "node = find_lowest_cost(costs)\n",
    "\n",
    "while node is not None: # 还有未处理的节点时\n",
    "    cost = costs[node]\n",
    "    neighbors = graph[node]\n",
    "    for n in neighbors.keys(): # 遍历所有邻居节点\n",
    "        new_cost = neighbors[n] + cost\n",
    "        if new_cost < costs[n]: # 更新最小开销 & 父节点\n",
    "            costs[n] = new_cost\n",
    "            parents[n] = node\n",
    "    processed.append(node) # 记录处理完的节点\n",
    "    node = find_lowest_cost(costs) # 接下来要处理的节点\n",
    "\n",
    "print(parents)"
   ]
  }
 ],
 "metadata": {
  "kernelspec": {
   "display_name": "Python 3",
   "language": "python",
   "name": "python3"
  },
  "language_info": {
   "codemirror_mode": {
    "name": "ipython",
    "version": 3
   },
   "file_extension": ".py",
   "mimetype": "text/x-python",
   "name": "python",
   "nbconvert_exporter": "python",
   "pygments_lexer": "ipython3",
   "version": "3.7.2"
  }
 },
 "nbformat": 4,
 "nbformat_minor": 2
}
